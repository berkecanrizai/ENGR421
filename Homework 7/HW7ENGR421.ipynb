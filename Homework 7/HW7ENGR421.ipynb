{
 "cells": [
  {
   "cell_type": "code",
   "execution_count": 1,
   "id": "f8b394e6-3852-4cd4-8073-bc61a34ec33d",
   "metadata": {},
   "outputs": [],
   "source": [
    "import matplotlib.pyplot as plt\n",
    "import numpy as np\n",
    "import scipy.spatial as spa\n",
    "import scipy.spatial.distance as dt\n",
    "import math\n",
    "import scipy.stats as stats"
   ]
  },
  {
   "cell_type": "code",
   "execution_count": 2,
   "id": "ea8d24df-e1c2-44f4-a0c8-0991a361d3e7",
   "metadata": {},
   "outputs": [],
   "source": [
    "np.random.seed(421)\n",
    "# sample size\n",
    "N = 300\n",
    "# cluster count\n",
    "K = 5"
   ]
  },
  {
   "cell_type": "code",
   "execution_count": 3,
   "id": "6a9f0733-712a-4c51-a398-44d1278a984f",
   "metadata": {},
   "outputs": [],
   "source": [
    "def update_centroids(memberships, X):\n",
    "    if memberships is None:\n",
    "        # initialize centroids\n",
    "        centroids = np.genfromtxt(\"hw07_initial_centroids.csv\", delimiter = \",\")\n",
    "    else:\n",
    "        # update centroids\n",
    "        centroids = np.vstack([np.mean(X[memberships == k,:], axis = 0) for k in range(K)])\n",
    "    return(centroids)\n",
    "\n",
    "def update_memberships(centroids, X):\n",
    "    # calculate distances between centroids and data points\n",
    "    #if covariances is None:\n",
    "        #D = spa.distance_matrix(centroids, X)\n",
    "        #memberships = np.argmin(D, axis = 0)\n",
    "        #return np.argmin(D, axis = 0)\n",
    "    \n",
    "    #memberships = np.array([np.argmax([score_func(y, centroids[i], covariances[i], priors[i]) for i in range(K)]) for y in X])\n",
    "    #for i in range(300):\n",
    "        #memberships[i] = getResult(X[i])\n",
    "    D = spa.distance_matrix(centroids, X)\n",
    "    #find the nearest centroid for each data point\n",
    "    memberships = np.argmin(D, axis = 0)\n",
    "    return(memberships)"
   ]
  },
  {
   "cell_type": "code",
   "execution_count": 4,
   "id": "f64ae269-0cf7-4ef4-9a20-ae2a23a6b1b0",
   "metadata": {},
   "outputs": [],
   "source": [
    "data_set = np.genfromtxt(\"hw07_data_set.csv\", delimiter = \",\")\n",
    "X = data_set"
   ]
  },
  {
   "cell_type": "code",
   "execution_count": 5,
   "id": "a439d982-5c67-42ff-b784-eb28cc16a5bf",
   "metadata": {},
   "outputs": [],
   "source": [
    "centroids = np.genfromtxt(\"hw07_initial_centroids.csv\", delimiter = \",\")"
   ]
  },
  {
   "cell_type": "code",
   "execution_count": null,
   "id": "b70c4c2c-5dd4-4fd3-8536-5c9156a2fd46",
   "metadata": {},
   "outputs": [],
   "source": []
  },
  {
   "cell_type": "code",
   "execution_count": 6,
   "id": "f4b5fd4d-4b9b-4ba0-b531-537670ad46e2",
   "metadata": {},
   "outputs": [],
   "source": [
    "def score_func(x,means,cova,count):\n",
    "    #result = np.sum((-1*np.log(2*math.pi)) - (0.5*np.log(np.linalg.det(cova))) - 0.5*(np.dot(np.array(x-means).T, np.linalg.inv(cova))*(x-means))) + (count)\n",
    "    result = stats.multivariate_normal.pdf(x, means, cova) * (count)\n",
    "    return result"
   ]
  },
  {
   "cell_type": "code",
   "execution_count": 7,
   "id": "67cd0fd0-24a1-49d9-bb86-4c840e9fef8e",
   "metadata": {},
   "outputs": [],
   "source": [
    "def getResult(x):\n",
    "    maxPt=0\n",
    "    mex=score_func(x, centroids[0], covariances[0], priors[0])\n",
    "    for i in range(K):\n",
    "        if(score_func(x, centroids[i], covariances[i], priors[i]) > mex):\n",
    "            maxPt=i\n",
    "            mex=score_func(x, centroids[i], covariances[i], priors[i])\n",
    "    return maxPt"
   ]
  },
  {
   "cell_type": "code",
   "execution_count": 8,
   "id": "092efef8-f5e7-4bf8-9ba0-d9a5b1df7a5d",
   "metadata": {},
   "outputs": [],
   "source": [
    "def plot_current_state(centroids, memberships, X):\n",
    "    cluster_colors = np.array([\"#1f78b4\", \"#33a02c\", \"#e31a1c\", \"#ff7f00\", \"#6a3d9a\", \"#b15928\",\n",
    "                               \"#a6cee3\", \"#b2df8a\", \"#fb9a99\", \"#fdbf6f\", \"#cab2d6\", \"#ffff99\"])\n",
    "    if memberships is None:\n",
    "        plt.plot(X[:,0], X[:,1], \".\", markersize = 10, color = \"black\")\n",
    "    else:\n",
    "        for c in range(K):\n",
    "            plt.plot(X[memberships == c, 0], X[memberships == c, 1], \".\", markersize = 10,\n",
    "                     color = cluster_colors[c])\n",
    "    for c in range(K):\n",
    "        plt.plot(centroids[c, 0], centroids[c, 1], \"s\", markersize = 12, \n",
    "                 markerfacecolor = cluster_colors[c], markeredgecolor = \"black\")\n",
    "    plt.xlabel(\"x1\")\n",
    "    plt.ylabel(\"x2\")"
   ]
  },
  {
   "cell_type": "code",
   "execution_count": 9,
   "id": "33ccf1d2-6893-48cd-95e0-ed3457b1344c",
   "metadata": {},
   "outputs": [],
   "source": [
    "#memberships"
   ]
  },
  {
   "cell_type": "code",
   "execution_count": 10,
   "id": "59636f7f-fa0c-43a0-a580-9f680ab55187",
   "metadata": {},
   "outputs": [],
   "source": [
    "#i = 3"
   ]
  },
  {
   "cell_type": "code",
   "execution_count": 11,
   "id": "56416953-2eba-4aa6-8502-354028f5d1b9",
   "metadata": {},
   "outputs": [],
   "source": [
    "#centroids[i], covariances[i], priors[i]"
   ]
  },
  {
   "cell_type": "code",
   "execution_count": 12,
   "id": "d0699a5b-cb4a-4d9b-a7b9-e8b60b7ba927",
   "metadata": {},
   "outputs": [
    {
     "data": {
      "text/plain": [
       "[<matplotlib.lines.Line2D at 0x17374554fd0>]"
      ]
     },
     "execution_count": 12,
     "metadata": {},
     "output_type": "execute_result"
    },
    {
     "data": {
      "image/png": "[encoded data removed]",
      "text/plain": [
       "<Figure size 864x432 with 1 Axes>"
      ]
     },
     "metadata": {
      "needs_background": "light"
     },
     "output_type": "display_data"
    }
   ],
   "source": [
    "plt.figure(figsize = (12, 6))    \n",
    "plt.subplot(1, 2, 1)\n",
    "plt.plot(X[:,0],X[:,1],\"k.\", markersize = 10)"
   ]
  },
  {
   "cell_type": "code",
   "execution_count": 13,
   "id": "9b2f51c4-b730-433d-82e5-0aaac42283ed",
   "metadata": {},
   "outputs": [],
   "source": [
    "#priors = np.array([np.count_nonzero(memberships == i) for i in range(K)]) / N"
   ]
  },
  {
   "cell_type": "code",
   "execution_count": 14,
   "id": "0ae4e7ea-df95-4fa3-a43b-a58d491f6392",
   "metadata": {},
   "outputs": [],
   "source": [
    "#covariances = [np.cov(data_set[memberships == i].T) for i in range(K)]"
   ]
  },
  {
   "cell_type": "code",
   "execution_count": null,
   "id": "05b7a941-a9f9-4dc6-bacc-62e5064b39a1",
   "metadata": {},
   "outputs": [],
   "source": []
  },
  {
   "cell_type": "code",
   "execution_count": 15,
   "id": "30d6be36-bd1c-4870-8de1-ccf0fb20f159",
   "metadata": {},
   "outputs": [],
   "source": [
    "memberships = update_memberships(centroids, X)\n",
    "priors = np.array([np.count_nonzero(memberships == i) for i in range(K)]) / N\n",
    "covariances = [np.cov(data_set[memberships == i].T) for i in range(K)]\n",
    "    \n",
    "old_centroids = centroids\n",
    "centroids = update_centroids(memberships, X)"
   ]
  },
  {
   "cell_type": "code",
   "execution_count": null,
   "id": "1e2f97f2-91af-425f-a856-00b759bedd64",
   "metadata": {},
   "outputs": [],
   "source": []
  },
  {
   "cell_type": "code",
   "execution_count": 16,
   "id": "e6a0bde5-2522-4836-8bd1-a001bd624146",
   "metadata": {},
   "outputs": [
    {
     "name": "stdout",
     "output_type": "stream",
     "text": [
      "Iteration#1:\n",
      "Iteration#2:\n",
      "Iteration#3:\n",
      "Iteration#4:\n",
      "Iteration#5:\n",
      "Iteration#6:\n",
      "Iteration#7:\n",
      "Iteration#8:\n",
      "Iteration#9:\n",
      "Iteration#10:\n",
      "Iteration#11:\n",
      "Iteration#12:\n",
      "Iteration#13:\n",
      "Iteration#14:\n",
      "Iteration#15:\n",
      "Iteration#16:\n",
      "Iteration#17:\n",
      "Iteration#18:\n",
      "Iteration#19:\n",
      "Iteration#20:\n",
      "Iteration#21:\n",
      "Iteration#22:\n",
      "Iteration#23:\n",
      "Iteration#24:\n",
      "Iteration#25:\n",
      "Iteration#26:\n",
      "Iteration#27:\n",
      "Iteration#28:\n",
      "Iteration#29:\n",
      "Iteration#30:\n",
      "Iteration#31:\n",
      "Iteration#32:\n",
      "Iteration#33:\n",
      "Iteration#34:\n",
      "Iteration#35:\n",
      "Iteration#36:\n",
      "Iteration#37:\n",
      "Iteration#38:\n",
      "Iteration#39:\n",
      "Iteration#40:\n",
      "Iteration#41:\n",
      "Iteration#42:\n",
      "Iteration#43:\n",
      "Iteration#44:\n",
      "Iteration#45:\n",
      "Iteration#46:\n",
      "Iteration#47:\n",
      "Iteration#48:\n",
      "Iteration#49:\n",
      "Iteration#50:\n",
      "Iteration#51:\n",
      "Iteration#52:\n",
      "Iteration#53:\n",
      "Iteration#54:\n",
      "Iteration#55:\n",
      "Iteration#56:\n",
      "Iteration#57:\n",
      "Iteration#58:\n",
      "Iteration#59:\n",
      "Iteration#60:\n",
      "Iteration#61:\n",
      "Iteration#62:\n",
      "Iteration#63:\n",
      "Iteration#64:\n",
      "Iteration#65:\n",
      "Iteration#66:\n",
      "Iteration#67:\n",
      "Iteration#68:\n",
      "Iteration#69:\n",
      "Iteration#70:\n",
      "Iteration#71:\n",
      "Iteration#72:\n",
      "Iteration#73:\n",
      "Iteration#74:\n",
      "Iteration#75:\n",
      "Iteration#76:\n",
      "Iteration#77:\n",
      "Iteration#78:\n",
      "Iteration#79:\n",
      "Iteration#80:\n",
      "Iteration#81:\n",
      "Iteration#82:\n",
      "Iteration#83:\n",
      "Iteration#84:\n",
      "Iteration#85:\n",
      "Iteration#86:\n",
      "Iteration#87:\n",
      "Iteration#88:\n",
      "Iteration#89:\n",
      "Iteration#90:\n",
      "Iteration#91:\n",
      "Iteration#92:\n",
      "Iteration#93:\n",
      "Iteration#94:\n",
      "Iteration#95:\n",
      "Iteration#96:\n",
      "Iteration#97:\n",
      "Iteration#98:\n",
      "Iteration#99:\n",
      "Iteration#100:\n"
     ]
    }
   ],
   "source": [
    "iteration = 1\n",
    "hik = np.zeros(shape=(300,5), dtype=float)\n",
    "while iteration <= 100:\n",
    "    print(\"Iteration#{}:\".format(iteration))\n",
    "    # E step\n",
    "    memberships = np.array([np.argmax([score_func(y, centroids[i], covariances[i], priors[i]) for i in range(K)]) for y in X])\n",
    "    #for i in range(300):\n",
    "     #   memberships[i] = getResult(X[i])\n",
    "    for i in range(300):\n",
    "        hik[i, 0] = score_func(X[i], centroids[0], covariances[0], priors[0]) \n",
    "        hik[i, 1] = score_func(X[i], centroids[1], covariances[1], priors[1])\n",
    "        hik[i, 2] = score_func(X[i], centroids[2], covariances[2], priors[2])\n",
    "        hik[i, 3] = score_func(X[i], centroids[3], covariances[3], priors[3])\n",
    "        hik[i, 4] = score_func(X[i], centroids[4], covariances[4], priors[4])\n",
    "    # M step\n",
    "    \n",
    "    #centroids = update_centroids(memberships, X)\n",
    "    #priors = np.array([np.count_nonzero(memberships == i) for i in range(K)]) / N\n",
    "    #covariances = [np.cov(data_set[memberships == i].T) for i in range(K)]\n",
    "    # M step\n",
    "    \n",
    "    \n",
    "    centroids = np.vstack([hik[:, k].dot(X) / np.sum(hik[:, k]) for k in range(K)])\n",
    "    priors = np.array([np.count_nonzero(memberships == i) for i in range(K)]) / N\n",
    "    covariances = [np.cov(data_set[memberships == i].T) for i in range(K)]\n",
    "    #covariances = [np.sum(hik[n, k] * np.outer(X[n] - centroids[k], X[n] - centroids[k]) for n in range(N)) for k in range(K)]\n",
    "    \n",
    "    #centroids = np.vstack([np.matmul(X[:].T, hik[:, i]) / np.sum(hik[:, i]) for i in range(K)])\n",
    "    \n",
    "    \n",
    "    \n",
    "    #centroids = np.vstack([np.matmul(X[:].T, hik[:, i]) / np.sum(hik[:, i]) for i in range(K)])\n",
    "    #priors = [np.sum(hik[:, i]) for i in range(K)] / np.sum(hik)\n",
    "    #covariances = [np.sum(hik[:, k] * np.matmul(X[:] - centroids[k], np.array(X[:] - centroids[k]).T)) / np.sum(hik[:, k]) for k in range(K)] \n",
    "    \n",
    "\n",
    "    #old_memberships = memberships\n",
    "    #memberships = update_memberships(centroids, X)\n",
    "    #priors = np.array([np.count_nonzero(memberships == i) for i in range(K)]) / N\n",
    "    #covariances = [np.cov(data_set[memberships == i].T) for i in range(K)]\n",
    "    #centroids = update_centroids(memberships, X)\n",
    "    \n",
    "\n",
    "    iteration = iteration + 1"
   ]
  },
  {
   "cell_type": "code",
   "execution_count": 17,
   "id": "50f339b0-15ba-4a4d-af15-cf03dbbb934a",
   "metadata": {},
   "outputs": [],
   "source": [
    "class_means = np.array([[+2.5, +2.5], [-2.5, +2.5], [-2.5, -2.5], [+2.5, -2.5], [0, 0]])\n",
    "class_deviations = np.array([[[+0.8, -0.6], [-0.6, +0.8]], [[+0.8, +0.6], [+0.6, +0.8]], [[+0.8, -0.6], [-0.6, +0.8]],\n",
    "                             [[+0.8, +0.6], [+0.6, +0.8]], [[+1.6, 0], [0, +1.6]]])\n",
    "class_sizes = np.array([50, 50, 50, 50, 100])"
   ]
  },
  {
   "cell_type": "code",
   "execution_count": 18,
   "id": "85f30a10-a3f2-4ab3-94b8-33982fc736b6",
   "metadata": {},
   "outputs": [],
   "source": []
  },
  {
   "cell_type": "code",
   "execution_count": 19,
   "id": "b829a42d-0c58-47f3-94ae-3add769e6c02",
   "metadata": {},
   "outputs": [],
   "source": [
    "#k = 0\n",
    "#(np.matmul(np.array(X[:] - centroids[k])[:].reshape(300,2), np.array(X[:] - centroids[k])[:].reshape(2,300)))"
   ]
  },
  {
   "cell_type": "code",
   "execution_count": 20,
   "id": "e25ea096-d302-4d67-9fe0-e1850eff0192",
   "metadata": {},
   "outputs": [],
   "source": [
    "#hik[:, 0]* np.matmul(X[:] - centroids[0], np.array(X[:] - centroids[0]).T)"
   ]
  },
  {
   "cell_type": "code",
   "execution_count": 29,
   "id": "f7b3f7d3-2f0b-4a6c-9bcc-8a4310b1145d",
   "metadata": {},
   "outputs": [
    {
     "data": {
      "image/png": "[encoded data removed]",
      "text/plain": [
       "<Figure size 864x432 with 1 Axes>"
      ]
     },
     "metadata": {
      "needs_background": "light"
     },
     "output_type": "display_data"
    }
   ],
   "source": [
    "plt.figure(figsize=(12, 6))\n",
    "plt.subplot(1, 2, 1)\n",
    "\n",
    "plot_current_state(centroids, memberships, X)\n",
    "\n",
    "x, y = np.mgrid[-6 : 6 : 0.05, -6 : 6 : 0.05]\n",
    "coordinates = np.empty(x.shape + (2,))\n",
    "coordinates[:, :, 0] = x\n",
    "coordinates[:, :, 1] = y\n",
    "for i in range(K):\n",
    "    pred = stats.multivariate_normal(class_means[i], class_deviations[i])\n",
    "    real = stats.multivariate_normal(centroids[i], covariances[i])\n",
    "    plt.contour(x, y, pred.pdf(coordinates), levels=[0.05], linestyles='dashed')\n",
    "    plt.contour(x, y, real.pdf(coordinates), levels=[0.05])\n",
    "plt.show()"
   ]
  },
  {
   "cell_type": "code",
   "execution_count": null,
   "id": "5b4820b6-cc0e-4612-bb47-43e63e8ce70e",
   "metadata": {},
   "outputs": [],
   "source": []
  },
  {
   "cell_type": "code",
   "execution_count": null,
   "id": "6a007834-24d7-42b9-be23-ee81a0d1a765",
   "metadata": {},
   "outputs": [],
   "source": []
  },
  {
   "cell_type": "code",
   "execution_count": null,
   "id": "0e3a59ac-29d2-45de-b561-91df695e9084",
   "metadata": {},
   "outputs": [],
   "source": []
  },
  {
   "cell_type": "code",
   "execution_count": null,
   "id": "94fc59c0-abb0-4238-94c9-eeefe646a959",
   "metadata": {},
   "outputs": [],
   "source": []
  }
 ],
 "metadata": {
  "kernelspec": {
   "display_name": "Python 3 (ipykernel)",
   "language": "python",
   "name": "python3"
  },
  "language_info": {
   "codemirror_mode": {
    "name": "ipython",
    "version": 3
   },
   "file_extension": ".py",
   "mimetype": "text/x-python",
   "name": "python",
   "nbconvert_exporter": "python",
   "pygments_lexer": "ipython3",
   "version": "3.9.8"
  }
 },
 "nbformat": 4,
 "nbformat_minor": 5
}
