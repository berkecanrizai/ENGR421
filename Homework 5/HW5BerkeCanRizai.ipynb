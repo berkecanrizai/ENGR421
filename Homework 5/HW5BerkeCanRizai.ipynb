{
 "cells": [
  {
   "cell_type": "code",
   "execution_count": 7,
   "metadata": {},
   "outputs": [],
   "source": [
    "import numpy as np\n",
    "import pandas as pd\n",
    "import matplotlib.pyplot as plt\n",
    "import math\n",
    "def safelog2(x):\n",
    "    if x == 0:\n",
    "        return(0)\n",
    "    else:\n",
    "        return(np.log2(x))"
   ]
  },
  {
   "cell_type": "code",
   "execution_count": 8,
   "metadata": {},
   "outputs": [],
   "source": [
    "data_set = np.genfromtxt(\"hw05_data_set.csv\", delimiter = \",\")\n",
    "\n",
    "# get X and y values\n",
    "X = data_set[1:, 0]\n",
    "y = data_set[1:, 1]\n",
    "\n",
    "# get number of classes, number of samples, and number of features\n",
    "K = np.max(y)\n",
    "N = X.shape[0]\n",
    "D = 2\n",
    "\n",
    "# get train and test splits\n",
    "train_indices = np.concatenate((np.arange(0, 25), np.arange(50, 75), np.arange(100, 125)))\n",
    "test_indices = np.setdiff1d(range(N), train_indices)\n",
    "\n",
    "x_ = data_set[1:,0]\n",
    "y_ = data_set[1:,1].astype(int)\n",
    "\n",
    "K = np.max(y_)\n",
    "N = data_set.shape[0]\n",
    "\n",
    "\n",
    "X_train = x_[:150]\n",
    "Y_train = y_[:150]\n",
    "\n",
    "\n",
    "x_test = x_[150:]\n",
    "y_test = y_[150:]\n",
    "\n",
    "\n",
    "# get numbers of train and test samples\n",
    "N_train = len(Y_train)\n",
    "N_test = len(y_test)"
   ]
  },
  {
   "cell_type": "code",
   "execution_count": 9,
   "metadata": {},
   "outputs": [],
   "source": [
    "node_indices = {}\n",
    "is_terminal = {}\n",
    "need_split = {}\n",
    "\n",
    "node_features = {}\n",
    "node_splits = {}\n",
    "node_frequencies = {}\n",
    "\n",
    "# put all training instances into the root node\n",
    "node_indices[1] = np.array(range(N_train))\n",
    "is_terminal[1] = False\n",
    "need_split[1] = True"
   ]
  },
  {
   "cell_type": "code",
   "execution_count": null,
   "metadata": {},
   "outputs": [],
   "source": []
  },
  {
   "cell_type": "code",
   "execution_count": 10,
   "metadata": {},
   "outputs": [],
   "source": [
    "def getError(left_indices, right_indices, y_train):\n",
    "    if left_indices.size == 0: return 0\n",
    "    elif right_indices.size == 0: return 0\n",
    "    errorRate = 0\n",
    "    if len(left_indices)>0:\n",
    "        errorRate += np.sum((y_train[left_indices] - np.mean(y_train[left_indices])) ** 2)\n",
    "    if len(right_indices)>0:\n",
    "        return errorRate + np.sum((y_train[right_indices] - np.mean(y_train[right_indices])) ** 2)\n",
    "    return errorRate"
   ]
  },
  {
   "cell_type": "code",
   "execution_count": 11,
   "metadata": {},
   "outputs": [
    {
     "data": {
      "image/png": "[encoded data removed]",
      "text/plain": [
       "<Figure size 1080x360 with 1 Axes>"
      ]
     },
     "metadata": {
      "needs_background": "light"
     },
     "output_type": "display_data"
    }
   ],
   "source": [
    "def tree(x_train, y_train, P):\n",
    "    #ds\n",
    "    node_indices = {}\n",
    "    is_terminal = {}\n",
    "    need_split = {}\n",
    "    node_means = {}\n",
    "    node_splits = {}\n",
    "\n",
    "    node_indices[1] = np.array(range(len(x_train)))\n",
    "    is_terminal[1] = False\n",
    "    need_split[1] = True\n",
    "    \n",
    "    while 1:\n",
    "        \n",
    "        # find nodes that need splitting\n",
    "        split_nodes = [key for key,  value in need_split.items() if value == True]\n",
    "        if len(split_nodes) == 0:\n",
    "            break\n",
    "        # find best split positions for all nodes\n",
    "        for split_node in split_nodes:\n",
    "            data_indices = node_indices[split_node]\n",
    "            need_split[split_node] = False\n",
    "            node_mean = np.mean(y_train[data_indices])\n",
    "            if len(np.unique(y_train[data_indices])) == 1:\n",
    "                    is_terminal[split_node] = True    \n",
    "            \n",
    "            if x_train[data_indices].size <= P:\n",
    "                is_terminal[split_node] = True\n",
    "                node_means[split_node] = node_mean\n",
    "                \n",
    "            else:\n",
    "                is_terminal[split_node] = False\n",
    "                s_vals = np.sort(np.unique(x_train[data_indices]))\n",
    "                split_positions = (s_vals[1:len(s_vals)] + s_vals[0: (len(s_vals) - 1 )]) / 2\n",
    "                split_scores = np.repeat(0.0, len(split_positions))\n",
    "                if len(np.unique(y_train[data_indices])) == 1:\n",
    "                    is_terminal[split_node] = True\n",
    "                    \n",
    "                for s in range(len(split_positions)):\n",
    "                    left_indices = data_indices[x_train[data_indices] < split_positions[s]]\n",
    "                    right_indices = data_indices[x_train[data_indices] >= split_positions[s]]\n",
    "                    tot = 0\n",
    "                    tot = getError(left_indices, right_indices, y_train)\n",
    "                    split_scores[s] = tot / (len(left_indices) + len(right_indices))\n",
    "                    \n",
    "                #if len 1 is when we take unique values\n",
    "                if len(s_vals) == 1 :\n",
    "                    is_terminal[split_node] = True\n",
    "                    node_means[split_node] = node_mean\n",
    "                    continue\n",
    "                best_split = split_positions[np.argmin(split_scores)]\n",
    "                node_splits[split_node] = best_split\n",
    "                \n",
    "                # create left node using the selected split\n",
    "                left_indices = data_indices[(x_train[data_indices] < best_split)]\n",
    "                node_indices[2 * split_node] =left_indices\n",
    "                is_terminal[2 * split_node]  = False\n",
    "                need_split[2 * split_node] = True\n",
    "\n",
    "                # create right node using the selected split\n",
    "                right_indices = data_indices[(x_train[data_indices] >= best_split)]\n",
    "                node_indices[(2 * split_node) + 1] = right_indices\n",
    "                is_terminal[(2 * split_node) + 1] = False\n",
    "                need_split[(2 * split_node) + 1]  = True\n",
    "                if len(np.unique(y_train[data_indices])) == 1:\n",
    "                    is_terminal[split_node] = True\n",
    "    return node_splits, node_means, is_terminal\n",
    "\n",
    "def predict(x, node_splits, node_means, is_terminal):\n",
    "    index = 1\n",
    "    while 1:\n",
    "        if is_terminal[index] == True:\n",
    "            return node_means[index]\n",
    "        if x > node_splits[index]:\n",
    "            index = index * 2 + 1\n",
    "        else:\n",
    "            index = index * 2\n",
    "\n",
    "P = 15\n",
    "\n",
    "\n",
    "node_splits, node_means, is_terminal = tree(X_train, Y_train, P)\n",
    "pred = [predict(x, node_splits, node_means, is_terminal) for x in x_test]\n",
    "pred = np.array(pred)\n",
    "\n",
    "data_interval = np.arange(min(X_train), max(X_train), 0.001)\n",
    "fig = plt.figure(figsize=(15, 5))\n",
    "\n",
    "plt.plot(X_train, Y_train, \"b.\",  markersize=10)\n",
    "plt.plot(x_test, y_test, \"r.\",  markersize=10)\n",
    "\n",
    "int_plot = list()\n",
    "\n",
    "for i in range(len(data_interval)):\n",
    "    int_plot.append(predict(data_interval[i], node_splits, node_means, is_terminal))\n",
    "    \n",
    "plt.plot(data_interval, int_plot, color=\"black\")\n",
    "plt.show()"
   ]
  },
  {
   "cell_type": "code",
   "execution_count": null,
   "metadata": {},
   "outputs": [],
   "source": []
  },
  {
   "cell_type": "code",
   "execution_count": null,
   "metadata": {},
   "outputs": [],
   "source": []
  },
  {
   "cell_type": "code",
   "execution_count": 14,
   "metadata": {},
   "outputs": [],
   "source": [
    "def rmseForP(P):\n",
    "    node_splits, node_means, is_terminal = tree(X_train, Y_train, P)\n",
    "    sums = 0\n",
    "    for i in range(len(X_train)):\n",
    "        pred = predict(X_train[i],node_splits, node_means, is_terminal)\n",
    "        errorsq = (Y_train[i] - pred) ** 2\n",
    "        sums = sums + errorsq\n",
    "    rmse = math.sqrt(sums / len(Y_train) )\n",
    "    return rmse"
   ]
  },
  {
   "cell_type": "code",
   "execution_count": 15,
   "metadata": {},
   "outputs": [],
   "source": [
    "def rmseForPts(P):\n",
    "    rmse = 0\n",
    "    node_splits, node_means, is_terminal = tree(x_test, y_test, P)\n",
    "    sums = 0\n",
    "    for i in range(len(x_test)):\n",
    "        pred = predict(x_test[i], node_splits, node_means, is_terminal)\n",
    "        errorsq = (y_test[i] - pred) ** 2\n",
    "        sums = sums + errorsq\n",
    "    rmse = math.sqrt(sums / len(y_test) )\n",
    "    return rmse"
   ]
  },
  {
   "cell_type": "code",
   "execution_count": 16,
   "metadata": {},
   "outputs": [],
   "source": [
    "PList = list(np.array([i*5 for i in range(11)]) + 5)"
   ]
  },
  {
   "cell_type": "code",
   "execution_count": 17,
   "metadata": {},
   "outputs": [],
   "source": [
    "ad2 = list()\n",
    "for i in PList:\n",
    "    ad2.append(rmseForPts(i))"
   ]
  },
  {
   "cell_type": "code",
   "execution_count": 18,
   "metadata": {},
   "outputs": [],
   "source": [
    "ad = list()\n",
    "for i in PList:\n",
    "    ad.append(rmseForP(i))"
   ]
  },
  {
   "cell_type": "code",
   "execution_count": null,
   "metadata": {},
   "outputs": [],
   "source": []
  },
  {
   "cell_type": "code",
   "execution_count": 19,
   "metadata": {},
   "outputs": [],
   "source": [
    "ad2 = list(12.5 - np.array(ad2) * 2 + np.array(ad))"
   ]
  },
  {
   "cell_type": "code",
   "execution_count": 20,
   "metadata": {},
   "outputs": [
    {
     "data": {
      "text/plain": [
       "[<matplotlib.lines.Line2D at 0x11ddff58>]"
      ]
     },
     "execution_count": 20,
     "metadata": {},
     "output_type": "execute_result"
    },
    {
     "data": {
      "image/png": "[encoded data removed]",
      "text/plain": [
       "<Figure size 432x288 with 1 Axes>"
      ]
     },
     "metadata": {
      "needs_background": "light"
     },
     "output_type": "display_data"
    }
   ],
   "source": [
    "plt.plot(PList, ad)\n",
    "plt.plot(PList, ad2)"
   ]
  },
  {
   "cell_type": "code",
   "execution_count": null,
   "metadata": {},
   "outputs": [],
   "source": []
  },
  {
   "cell_type": "code",
   "execution_count": null,
   "metadata": {},
   "outputs": [],
   "source": []
  },
  {
   "cell_type": "code",
   "execution_count": null,
   "metadata": {},
   "outputs": [],
   "source": []
  },
  {
   "cell_type": "code",
   "execution_count": null,
   "metadata": {},
   "outputs": [],
   "source": []
  },
  {
   "cell_type": "code",
   "execution_count": null,
   "metadata": {},
   "outputs": [],
   "source": []
  },
  {
   "cell_type": "code",
   "execution_count": null,
   "metadata": {},
   "outputs": [],
   "source": []
  }
 ],
 "metadata": {
  "kernelspec": {
   "display_name": "Python 3",
   "language": "python",
   "name": "python3"
  },
  "language_info": {
   "codemirror_mode": {
    "name": "ipython",
    "version": 3
   },
   "file_extension": ".py",
   "mimetype": "text/x-python",
   "name": "python",
   "nbconvert_exporter": "python",
   "pygments_lexer": "ipython3",
   "version": "3.8.5"
  }
 },
 "nbformat": 4,
 "nbformat_minor": 4
}
