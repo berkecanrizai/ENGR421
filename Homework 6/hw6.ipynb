{
 "cells": [
  {
   "cell_type": "code",
   "execution_count": 1,
   "metadata": {},
   "outputs": [],
   "source": [
    "import cvxopt as cvx\n",
    "import matplotlib.pyplot as plt\n",
    "import numpy as np\n",
    "import pandas as pd\n",
    "import scipy.spatial.distance as dt\n",
    "\n",
    "data_set = np.genfromtxt(\"hw06_images.csv\", delimiter = \",\")\n",
    "labels = np.genfromtxt(\"hw06_labels.csv\", delimiter = \",\")"
   ]
  },
  {
   "cell_type": "code",
   "execution_count": 2,
   "metadata": {},
   "outputs": [],
   "source": [
    "X_train = data_set[:1000]\n",
    "y_train = labels[:1000]"
   ]
  },
  {
   "cell_type": "code",
   "execution_count": 3,
   "metadata": {},
   "outputs": [],
   "source": [
    "X_test = data_set[1000:]\n",
    "y_test = labels[1000:]"
   ]
  },
  {
   "cell_type": "code",
   "execution_count": 4,
   "metadata": {},
   "outputs": [],
   "source": [
    "# define Gaussian kernel function\n",
    "def gaussian_kernel(X1, X2, s):\n",
    "    D = dt.cdist(X1, X2)\n",
    "    K = np.exp(-D**2 / (2 * s**2))\n",
    "    return(K)"
   ]
  },
  {
   "cell_type": "code",
   "execution_count": 5,
   "metadata": {},
   "outputs": [],
   "source": [
    "N_train = len(y_train)\n",
    "D_train = X_train.shape[1]"
   ]
  },
  {
   "cell_type": "code",
   "execution_count": null,
   "metadata": {},
   "outputs": [],
   "source": []
  },
  {
   "cell_type": "code",
   "execution_count": null,
   "metadata": {},
   "outputs": [],
   "source": []
  },
  {
   "cell_type": "code",
   "execution_count": 6,
   "metadata": {},
   "outputs": [],
   "source": [
    "y1 = np.array([1 if i == 1 else -1 for i in y_train]).astype(float)\n",
    "y2 = np.array([1 if i == 2 else -1 for i in y_train]).astype(float)\n",
    "y3 = np.array([1 if i == 3 else -1 for i in y_train]).astype(float)\n",
    "y4 = np.array([1 if i == 4 else -1 for i in y_train]).astype(float)\n",
    "y5 = np.array([1 if i == 5 else -1 for i in y_train]).astype(float)"
   ]
  },
  {
   "cell_type": "code",
   "execution_count": null,
   "metadata": {},
   "outputs": [],
   "source": []
  },
  {
   "cell_type": "code",
   "execution_count": 7,
   "metadata": {},
   "outputs": [],
   "source": [
    "def getSVM(y_train, s = 10, C = 10):\n",
    "    # calculate Gaussian kernel\n",
    "    K_train = gaussian_kernel(X_train, X_train, s)\n",
    "    yyK = np.matmul(y_train[:,None], y_train[None,:]) * K_train\n",
    "\n",
    "    # set learning parameters\n",
    "\n",
    "    epsilon = 1e-3\n",
    "\n",
    "    P = cvx.matrix(yyK)\n",
    "    q = cvx.matrix(-np.ones((N_train, 1)))\n",
    "    G = cvx.matrix(np.vstack((-np.eye(N_train), np.eye(N_train))))\n",
    "    h = cvx.matrix(np.vstack((np.zeros((N_train, 1)), C * np.ones((N_train, 1)))))\n",
    "    A = cvx.matrix(1.0 * y_train[None,:])\n",
    "    b = cvx.matrix(0.0)\n",
    "\n",
    "    # use cvxopt library to solve QP problems\n",
    "    result = cvx.solvers.qp(P, q, G, h, A, b)\n",
    "    alpha = np.reshape(result[\"x\"], N_train)\n",
    "    alpha[alpha < C * epsilon] = 0\n",
    "    alpha[alpha > C * (1 - epsilon)] = C\n",
    "\n",
    "    # find bias parameter\n",
    "    support_indices, = np.where(alpha != 0)\n",
    "    active_indices, = np.where(np.logical_and(alpha != 0, alpha < C))\n",
    "    w0 = np.mean(y_train[active_indices] * (1 - np.matmul(yyK[np.ix_(active_indices, support_indices)], alpha[support_indices])))\n",
    "    print(C)\n",
    "    return alpha, w0, K_train"
   ]
  },
  {
   "cell_type": "code",
   "execution_count": 8,
   "metadata": {},
   "outputs": [
    {
     "data": {
      "text/plain": [
       "\"# calculate predictions on training samples\\nf_predicted = np.matmul(K_train, y_train[:,None] * alpha[:,None]) + w0\\n\\n# calculate confusion matrix\\ny_predicted = 2 * (f_predicted > 0.0) - 1\\nconfusion_matrix = pd.crosstab(np.reshape(y_predicted, N_train), y_train, rownames = ['y_predicted'], colnames = ['y_train'])\\nprint(confusion_matrix)\""
      ]
     },
     "execution_count": 8,
     "metadata": {},
     "output_type": "execute_result"
    }
   ],
   "source": [
    "'''# calculate predictions on training samples\n",
    "f_predicted = np.matmul(K_train, y_train[:,None] * alpha[:,None]) + w0\n",
    "\n",
    "# calculate confusion matrix\n",
    "y_predicted = 2 * (f_predicted > 0.0) - 1\n",
    "confusion_matrix = pd.crosstab(np.reshape(y_predicted, N_train), y_train, rownames = ['y_predicted'], colnames = ['y_train'])\n",
    "print(confusion_matrix)'''"
   ]
  },
  {
   "cell_type": "code",
   "execution_count": 9,
   "metadata": {
    "tags": []
   },
   "outputs": [
    {
     "name": "stdout",
     "output_type": "stream",
     "text": [
      "     pcost       dcost       gap    pres   dres\n",
      " 0:  2.9600e+01 -4.2260e+04  8e+04  4e-01  4e-14\n",
      " 1:  1.2992e+01 -7.4611e+03  8e+03  2e-02  3e-14\n",
      " 2: -6.2643e+02 -2.9089e+03  2e+03  4e-03  3e-14\n",
      " 3: -8.9105e+02 -1.7204e+03  8e+02  1e-03  3e-14\n",
      " 4: -1.0255e+03 -1.3482e+03  3e+02  2e-04  4e-14\n",
      " 5: -1.0893e+03 -1.1778e+03  9e+01  2e-05  4e-14\n",
      " 6: -1.1096e+03 -1.1353e+03  3e+01  3e-07  4e-14\n",
      " 7: -1.1169e+03 -1.1209e+03  4e+00  2e-14  4e-14\n",
      " 8: -1.1184e+03 -1.1185e+03  1e-01  3e-14  4e-14\n",
      " 9: -1.1185e+03 -1.1185e+03  4e-03  8e-14  4e-14\n",
      "10: -1.1185e+03 -1.1185e+03  7e-05  7e-14  4e-14\n",
      "Optimal solution found.\n",
      "10\n"
     ]
    }
   ],
   "source": [
    "a1, w01, ktrain1 = getSVM(y1)"
   ]
  },
  {
   "cell_type": "code",
   "execution_count": 10,
   "metadata": {},
   "outputs": [
    {
     "name": "stdout",
     "output_type": "stream",
     "text": [
      "     pcost       dcost       gap    pres   dres\n",
      " 0:  1.9161e+02 -4.0951e+04  8e+04  4e-01  3e-14\n",
      " 1:  1.7375e+02 -7.6611e+03  9e+03  2e-02  2e-14\n",
      " 2: -4.0615e+02 -2.9616e+03  3e+03  6e-03  2e-14\n",
      " 3: -6.2557e+02 -1.7531e+03  1e+03  2e-03  2e-14\n",
      " 4: -7.5417e+02 -1.1618e+03  4e+02  4e-04  3e-14\n",
      " 5: -8.2696e+02 -9.7495e+02  1e+02  7e-14  3e-14\n",
      " 6: -8.5262e+02 -8.9665e+02  4e+01  3e-14  3e-14\n",
      " 7: -8.6181e+02 -8.7420e+02  1e+01  3e-14  3e-14\n",
      " 8: -8.6497e+02 -8.6821e+02  3e+00  1e-14  3e-14\n",
      " 9: -8.6600e+02 -8.6646e+02  5e-01  8e-15  3e-14\n",
      "10: -8.6615e+02 -8.6622e+02  7e-02  3e-14  3e-14\n",
      "11: -8.6618e+02 -8.6618e+02  9e-04  2e-15  3e-14\n",
      "12: -8.6618e+02 -8.6618e+02  1e-05  5e-14  3e-14\n",
      "Optimal solution found.\n",
      "10\n"
     ]
    }
   ],
   "source": [
    "a2, w02, ktrain2 = getSVM(y2)"
   ]
  },
  {
   "cell_type": "code",
   "execution_count": 11,
   "metadata": {},
   "outputs": [
    {
     "name": "stdout",
     "output_type": "stream",
     "text": [
      "     pcost       dcost       gap    pres   dres\n",
      " 0:  1.1844e+02 -5.1297e+04  1e+05  5e-01  3e-14\n",
      " 1:  4.2823e+02 -1.0079e+04  1e+04  2e-02  2e-14\n",
      " 2: -4.3384e+02 -3.3474e+03  3e+03  3e-03  2e-14\n",
      " 3: -7.4758e+02 -1.9976e+03  1e+03  9e-04  2e-14\n",
      " 4: -8.9381e+02 -1.4365e+03  5e+02  3e-04  2e-14\n",
      " 5: -9.8213e+02 -1.1677e+03  2e+02  5e-05  2e-14\n",
      " 6: -1.0174e+03 -1.0749e+03  6e+01  1e-05  2e-14\n",
      " 7: -1.0296e+03 -1.0480e+03  2e+01  4e-14  3e-14\n",
      " 8: -1.0350e+03 -1.0380e+03  3e+00  4e-14  3e-14\n",
      " 9: -1.0360e+03 -1.0362e+03  2e-01  3e-14  3e-14\n",
      "10: -1.0361e+03 -1.0361e+03  4e-03  3e-14  3e-14\n",
      "11: -1.0361e+03 -1.0361e+03  7e-05  4e-14  3e-14\n",
      "Optimal solution found.\n",
      "10\n"
     ]
    }
   ],
   "source": [
    "a3, w03, ktrain3 = getSVM(y3)"
   ]
  },
  {
   "cell_type": "code",
   "execution_count": 12,
   "metadata": {},
   "outputs": [
    {
     "name": "stdout",
     "output_type": "stream",
     "text": [
      "     pcost       dcost       gap    pres   dres\n",
      " 0: -5.0057e+02 -5.0242e+04  8e+04  3e-01  4e-14\n",
      " 1: -5.5603e+02 -8.9813e+03  9e+03  1e-02  4e-14\n",
      " 2: -1.3487e+03 -3.4368e+03  2e+03  2e-03  4e-14\n",
      " 3: -1.6731e+03 -2.5433e+03  9e+02  3e-04  4e-14\n",
      " 4: -1.8026e+03 -2.1922e+03  4e+02  6e-05  5e-14\n",
      " 5: -1.8680e+03 -1.9850e+03  1e+02  8e-06  5e-14\n",
      " 6: -1.8927e+03 -1.9224e+03  3e+01  7e-07  5e-14\n",
      " 7: -1.9008e+03 -1.9050e+03  4e+00  5e-14  6e-14\n",
      " 8: -1.9023e+03 -1.9024e+03  1e-01  6e-14  6e-14\n",
      " 9: -1.9023e+03 -1.9023e+03  2e-03  5e-14  5e-14\n",
      "10: -1.9023e+03 -1.9023e+03  5e-05  6e-14  5e-14\n",
      "Optimal solution found.\n",
      "10\n"
     ]
    }
   ],
   "source": [
    "a4, w04, ktrain4 = getSVM(y4)"
   ]
  },
  {
   "cell_type": "code",
   "execution_count": 13,
   "metadata": {},
   "outputs": [
    {
     "name": "stdout",
     "output_type": "stream",
     "text": [
      "     pcost       dcost       gap    pres   dres\n",
      " 0:  7.0372e+02 -3.9006e+04  9e+04  4e-01  2e-14\n",
      " 1:  8.8098e+02 -6.5835e+03  1e+04  3e-02  1e-14\n",
      " 2:  1.8077e+02 -1.2718e+03  2e+03  3e-03  1e-14\n",
      " 3: -4.2561e+01 -4.8795e+02  5e+02  6e-04  8e-15\n",
      " 4: -1.0334e+02 -2.6112e+02  2e+02  1e-04  7e-15\n",
      " 5: -1.2629e+02 -1.9573e+02  7e+01  4e-05  7e-15\n",
      " 6: -1.3971e+02 -1.6794e+02  3e+01  6e-06  8e-15\n",
      " 7: -1.4558e+02 -1.5551e+02  1e+01  1e-14  9e-15\n",
      " 8: -1.4845e+02 -1.5012e+02  2e+00  9e-15  9e-15\n",
      " 9: -1.4906e+02 -1.4917e+02  1e-01  2e-15  9e-15\n",
      "10: -1.4910e+02 -1.4911e+02  1e-03  7e-15  9e-15\n",
      "11: -1.4911e+02 -1.4911e+02  1e-05  9e-15  9e-15\n",
      "Optimal solution found.\n",
      "10\n"
     ]
    }
   ],
   "source": [
    "a5, w05, ktrain5 = getSVM(y5)"
   ]
  },
  {
   "cell_type": "code",
   "execution_count": 14,
   "metadata": {},
   "outputs": [
    {
     "name": "stdout",
     "output_type": "stream",
     "text": [
      "y_train      -1.0   1.0\n",
      "y_predicted            \n",
      "-1            784    11\n",
      " 1              7   198\n"
     ]
    }
   ],
   "source": [
    "# calculate predictions on training samples\n",
    "f_predicted1 = np.matmul(ktrain1, y1[:,None] * a1[:,None]) + w01\n",
    "\n",
    "# calculate confusion matrix\n",
    "y_predicted1 = 2 * (f_predicted1 > 0.0) - 1\n",
    "confusion_matrix = pd.crosstab(np.reshape(y_predicted1, N_train), y1, rownames = ['y_predicted'], colnames = ['y_train'])\n",
    "print(confusion_matrix)"
   ]
  },
  {
   "cell_type": "code",
   "execution_count": 15,
   "metadata": {},
   "outputs": [
    {
     "name": "stdout",
     "output_type": "stream",
     "text": [
      "y_train      -1.0   1.0\n",
      "y_predicted            \n",
      "-1            794    10\n",
      " 1              4   192\n"
     ]
    }
   ],
   "source": [
    "# calculate predictions on training samples\n",
    "f_predicted2 = np.matmul(ktrain2, y2[:,None] * a2[:,None]) + w02\n",
    "\n",
    "# calculate confusion matrix\n",
    "y_predicted2 = 2 * (f_predicted2 > 0.0) - 1\n",
    "confusion_matrix = pd.crosstab(np.reshape(y_predicted2, N_train), y2, rownames = ['y_predicted'], colnames = ['y_train'])\n",
    "print(confusion_matrix)"
   ]
  },
  {
   "cell_type": "code",
   "execution_count": 16,
   "metadata": {},
   "outputs": [
    {
     "name": "stdout",
     "output_type": "stream",
     "text": [
      "y_train      -1.0   1.0\n",
      "y_predicted            \n",
      "-1            786     9\n",
      " 1              5   200\n"
     ]
    }
   ],
   "source": [
    "# calculate predictions on training samples\n",
    "f_predicted3 = np.matmul(ktrain3, y3[:,None] * a3[:,None]) + w03\n",
    "\n",
    "# calculate confusion matrix\n",
    "y_predicted3 = 2 * (f_predicted3 > 0.0) - 1\n",
    "confusion_matrix = pd.crosstab(np.reshape(y_predicted3, N_train), y3, rownames = ['y_predicted'], colnames = ['y_train'])\n",
    "print(confusion_matrix)"
   ]
  },
  {
   "cell_type": "code",
   "execution_count": 17,
   "metadata": {},
   "outputs": [
    {
     "name": "stdout",
     "output_type": "stream",
     "text": [
      "y_train      -1.0   1.0\n",
      "y_predicted            \n",
      "-1            791    27\n",
      " 1              8   174\n"
     ]
    }
   ],
   "source": [
    "# calculate predictions on training samples\n",
    "f_predicted4 = np.matmul(ktrain4, y4[:,None] * a4[:,None]) + w04\n",
    "\n",
    "# calculate confusion matrix\n",
    "y_predicted4 = 2 * (f_predicted4 > 0.0) - 1\n",
    "confusion_matrix = pd.crosstab(np.reshape(y_predicted4, N_train), y4, rownames = ['y_predicted'], colnames = ['y_train'])\n",
    "print(confusion_matrix)"
   ]
  },
  {
   "cell_type": "code",
   "execution_count": 18,
   "metadata": {},
   "outputs": [
    {
     "name": "stdout",
     "output_type": "stream",
     "text": [
      "y_train      -1.0   1.0\n",
      "y_predicted            \n",
      "-1            821     1\n",
      " 1              0   178\n"
     ]
    }
   ],
   "source": [
    "# calculate predictions on training samples\n",
    "f_predicted5 = np.matmul(ktrain5, y5[:,None] * a5[:,None]) + w05\n",
    "\n",
    "# calculate confusion matrix\n",
    "y_predicted5 = 2 * (f_predicted5 > 0.0) - 1\n",
    "confusion_matrix = pd.crosstab(np.reshape(y_predicted5, N_train), y5, rownames = ['y_predicted'], colnames = ['y_train'])\n",
    "print(confusion_matrix)"
   ]
  },
  {
   "cell_type": "code",
   "execution_count": 19,
   "metadata": {},
   "outputs": [],
   "source": [
    "preds = np.argmax([f_predicted1,f_predicted2,f_predicted3,f_predicted4,f_predicted5], axis=0)\n",
    "preds = preds + 1"
   ]
  },
  {
   "cell_type": "code",
   "execution_count": 20,
   "metadata": {},
   "outputs": [
    {
     "name": "stdout",
     "output_type": "stream",
     "text": [
      "y_train      1.0  2.0  3.0  4.0  5.0\n",
      "y_predicted                         \n",
      "1            207    1    0    9    0\n",
      "2              2  199    1    1    0\n",
      "3              0    1  204    6    0\n",
      "4              0    1    4  185    1\n",
      "5              0    0    0    0  178\n"
     ]
    }
   ],
   "source": [
    "confusion_matrix = pd.crosstab(np.reshape(preds, N_train), y_train, rownames = ['y_predicted'], colnames = ['y_train'])\n",
    "print(confusion_matrix)"
   ]
  },
  {
   "cell_type": "code",
   "execution_count": 21,
   "metadata": {},
   "outputs": [],
   "source": [
    "s = 10\n",
    "K_test = gaussian_kernel(X_test, X_train, s)\n",
    "#np.matmul(ktrain4, y4[:,None] * a4[:,None])\n",
    "f_predicted1 = np.matmul(K_test, y1[:,None] * a1[:,None]) + w01"
   ]
  },
  {
   "cell_type": "code",
   "execution_count": 22,
   "metadata": {},
   "outputs": [],
   "source": [
    "f_predicted2 = np.matmul(K_test, y2[:,None] * a2[:,None]) + w02"
   ]
  },
  {
   "cell_type": "code",
   "execution_count": 23,
   "metadata": {},
   "outputs": [],
   "source": [
    "f_predicted3 = np.matmul(K_test, y3[:,None] * a3[:,None]) + w03"
   ]
  },
  {
   "cell_type": "code",
   "execution_count": 24,
   "metadata": {},
   "outputs": [],
   "source": [
    "f_predicted4 = np.matmul(K_test, y4[:,None] * a4[:,None]) + w04"
   ]
  },
  {
   "cell_type": "code",
   "execution_count": 25,
   "metadata": {},
   "outputs": [],
   "source": [
    "f_predicted5 = np.matmul(K_test, y5[:,None] * a5[:,None]) + w05"
   ]
  },
  {
   "cell_type": "code",
   "execution_count": 26,
   "metadata": {},
   "outputs": [],
   "source": [
    "preds = np.argmax([f_predicted1,f_predicted2,f_predicted3,f_predicted4,f_predicted5], axis=0)\n",
    "preds = preds + 1"
   ]
  },
  {
   "cell_type": "code",
   "execution_count": 27,
   "metadata": {},
   "outputs": [
    {
     "name": "stdout",
     "output_type": "stream",
     "text": [
      "y_train      1.0  2.0  3.0  4.0  5.0\n",
      "y_predicted                         \n",
      "1            641   23    3  137    9\n",
      "2             43  714   27   40    4\n",
      "3              4   39  666   90   10\n",
      "4            100   32   69  541   16\n",
      "5             12    2    6   15  757\n"
     ]
    }
   ],
   "source": [
    "confusion_matrix = pd.crosstab(np.reshape(preds, 4000), y_test, rownames = ['y_predicted'], colnames = ['y_train'])\n",
    "print(confusion_matrix)"
   ]
  },
  {
   "cell_type": "code",
   "execution_count": 28,
   "metadata": {},
   "outputs": [
    {
     "name": "stdout",
     "output_type": "stream",
     "text": [
      "0.1\n",
      "     pcost       dcost       gap    pres   dres\n",
      " 0: -1.3936e+02 -2.2047e+02  7e+03  3e+01  4e-15\n",
      " 1: -3.4801e+01 -2.0264e+02  4e+02  9e-01  3e-15\n",
      " 2: -2.8151e+01 -7.9601e+01  5e+01  1e-15  1e-15\n",
      " 3: -3.1266e+01 -4.3423e+01  1e+01  1e-15  8e-16\n",
      " 4: -3.2572e+01 -3.9120e+01  7e+00  3e-16  6e-16\n",
      " 5: -3.3423e+01 -3.6637e+01  3e+00  3e-16  7e-16\n",
      " 6: -3.3666e+01 -3.6029e+01  2e+00  1e-15  7e-16\n",
      " 7: -3.4121e+01 -3.4971e+01  9e-01  4e-16  7e-16\n",
      " 8: -3.4319e+01 -3.4585e+01  3e-01  2e-16  8e-16\n",
      " 9: -3.4415e+01 -3.4445e+01  3e-02  1e-15  8e-16\n",
      "10: -3.4429e+01 -3.4430e+01  1e-03  8e-16  8e-16\n",
      "11: -3.4429e+01 -3.4429e+01  5e-05  2e-16  8e-16\n",
      "12: -3.4429e+01 -3.4429e+01  1e-06  2e-16  8e-16\n",
      "Optimal solution found.\n",
      "0.1\n",
      "     pcost       dcost       gap    pres   dres\n",
      " 0: -1.1812e+02 -2.1835e+02  7e+03  3e+01  3e-15\n",
      " 1: -3.1287e+01 -2.0015e+02  5e+02  1e+00  3e-15\n",
      " 2: -2.4529e+01 -8.1514e+01  6e+01  2e-16  9e-16\n",
      " 3: -2.7550e+01 -4.0807e+01  1e+01  2e-16  8e-16\n",
      " 4: -2.8779e+01 -3.6453e+01  8e+00  2e-16  6e-16\n",
      " 5: -2.9884e+01 -3.2916e+01  3e+00  5e-16  6e-16\n",
      " 6: -3.0187e+01 -3.2141e+01  2e+00  2e-16  6e-16\n",
      " 7: -3.0531e+01 -3.1383e+01  9e-01  5e-16  6e-16\n",
      " 8: -3.0649e+01 -3.1131e+01  5e-01  4e-16  6e-16\n",
      " 9: -3.0792e+01 -3.0877e+01  9e-02  2e-16  7e-16\n",
      "10: -3.0830e+01 -3.0833e+01  4e-03  2e-16  7e-16\n",
      "11: -3.0831e+01 -3.0831e+01  6e-05  6e-16  7e-16\n",
      "12: -3.0831e+01 -3.0831e+01  8e-07  2e-16  7e-16\n",
      "Optimal solution found.\n",
      "0.1\n",
      "     pcost       dcost       gap    pres   dres\n",
      " 0: -1.4762e+02 -2.1500e+02  7e+03  3e+01  3e-15\n",
      " 1: -3.8264e+01 -1.9588e+02  4e+02  1e+00  2e-15\n",
      " 2: -2.9989e+01 -8.1981e+01  5e+01  1e-15  1e-15\n",
      " 3: -3.3095e+01 -4.5793e+01  1e+01  2e-16  6e-16\n",
      " 4: -3.4235e+01 -4.2222e+01  8e+00  7e-16  5e-16\n",
      " 5: -3.5466e+01 -3.8302e+01  3e+00  2e-16  5e-16\n",
      " 6: -3.5980e+01 -3.7069e+01  1e+00  3e-16  5e-16\n",
      " 7: -3.6241e+01 -3.6585e+01  3e-01  7e-16  5e-16\n",
      " 8: -3.6339e+01 -3.6439e+01  1e-01  3e-16  5e-16\n",
      " 9: -3.6376e+01 -3.6388e+01  1e-02  2e-16  6e-16\n",
      "10: -3.6381e+01 -3.6382e+01  7e-04  4e-16  6e-16\n",
      "11: -3.6381e+01 -3.6382e+01  5e-05  3e-16  6e-16\n",
      "12: -3.6382e+01 -3.6382e+01  1e-06  9e-16  7e-16\n",
      "Optimal solution found.\n",
      "0.1\n",
      "     pcost       dcost       gap    pres   dres\n",
      " 0: -2.2740e+02 -2.4471e+02  8e+03  3e+01  4e-15\n",
      " 1: -5.2427e+01 -2.2208e+02  5e+02  1e+00  4e-15\n",
      " 2: -3.6532e+01 -1.0425e+02  7e+01  1e-15  1e-15\n",
      " 3: -3.7890e+01 -5.0576e+01  1e+01  2e-16  9e-16\n",
      " 4: -3.8953e+01 -4.2229e+01  3e+00  8e-16  6e-16\n",
      " 5: -3.9317e+01 -4.1037e+01  2e+00  6e-16  6e-16\n",
      " 6: -3.9581e+01 -4.0117e+01  5e-01  7e-16  6e-16\n",
      " 7: -3.9687e+01 -3.9855e+01  2e-01  3e-16  6e-16\n",
      " 8: -3.9729e+01 -3.9775e+01  5e-02  5e-16  7e-16\n",
      " 9: -3.9743e+01 -3.9752e+01  8e-03  1e-15  7e-16\n",
      "10: -3.9746e+01 -3.9747e+01  9e-04  8e-16  7e-16\n",
      "11: -3.9747e+01 -3.9747e+01  2e-05  7e-16  7e-16\n",
      "Optimal solution found.\n",
      "0.1\n",
      "     pcost       dcost       gap    pres   dres\n",
      " 0: -5.0987e+01 -2.1039e+02  8e+03  3e+01  2e-15\n",
      " 1: -1.8668e+01 -1.9385e+02  4e+02  7e-01  1e-15\n",
      " 2: -1.5779e+01 -5.3876e+01  4e+01  3e-16  7e-16\n",
      " 3: -1.7527e+01 -3.2549e+01  2e+01  5e-16  5e-16\n",
      " 4: -1.8454e+01 -2.7870e+01  9e+00  2e-16  4e-16\n",
      " 5: -1.9289e+01 -2.4343e+01  5e+00  2e-16  4e-16\n",
      " 6: -1.9867e+01 -2.2424e+01  3e+00  3e-16  4e-16\n",
      " 7: -2.0224e+01 -2.1419e+01  1e+00  6e-16  4e-16\n",
      " 8: -2.0382e+01 -2.1058e+01  7e-01  2e-16  4e-16\n",
      " 9: -2.0547e+01 -2.0701e+01  2e-01  3e-16  5e-16\n",
      "10: -2.0597e+01 -2.0615e+01  2e-02  3e-16  6e-16\n",
      "11: -2.0605e+01 -2.0606e+01  5e-04  2e-16  5e-16\n",
      "12: -2.0605e+01 -2.0605e+01  8e-06  6e-16  5e-16\n",
      "Optimal solution found.\n",
      "0.1\n",
      "1\n",
      "     pcost       dcost       gap    pres   dres\n",
      " 0: -2.2985e+02 -2.1370e+03  1e+04  3e+00  6e-15\n",
      " 1: -1.6042e+02 -1.2562e+03  2e+03  2e-01  5e-15\n",
      " 2: -1.6677e+02 -3.8202e+02  2e+02  3e-02  4e-15\n",
      " 3: -1.9475e+02 -2.6344e+02  7e+01  6e-03  5e-15\n",
      " 4: -2.0572e+02 -2.3571e+02  3e+01  2e-03  5e-15\n",
      " 5: -2.1171e+02 -2.2271e+02  1e+01  5e-04  6e-15\n",
      " 6: -2.1445e+02 -2.1772e+02  3e+00  6e-15  7e-15\n",
      " 7: -2.1556e+02 -2.1610e+02  5e-01  4e-15  6e-15\n",
      " 8: -2.1577e+02 -2.1580e+02  3e-02  3e-15  6e-15\n",
      " 9: -2.1579e+02 -2.1579e+02  8e-04  9e-15  6e-15\n",
      "10: -2.1579e+02 -2.1579e+02  2e-05  9e-15  6e-15\n",
      "Optimal solution found.\n",
      "1\n",
      "     pcost       dcost       gap    pres   dres\n",
      " 0: -1.9208e+02 -2.1068e+03  1e+04  3e+00  5e-15\n",
      " 1: -1.3357e+02 -1.2131e+03  2e+03  2e-01  4e-15\n",
      " 2: -1.4004e+02 -3.3335e+02  2e+02  2e-02  3e-15\n",
      " 3: -1.5997e+02 -2.4526e+02  9e+01  7e-03  3e-15\n",
      " 4: -1.7205e+02 -2.0474e+02  3e+01  2e-03  4e-15\n",
      " 5: -1.7684e+02 -1.9350e+02  2e+01  5e-04  4e-15\n",
      " 6: -1.8001e+02 -1.8618e+02  6e+00  9e-05  4e-15\n",
      " 7: -1.8169e+02 -1.8304e+02  1e+00  2e-15  5e-15\n",
      " 8: -1.8218e+02 -1.8235e+02  2e-01  8e-15  5e-15\n",
      " 9: -1.8226e+02 -1.8227e+02  8e-03  7e-15  5e-15\n",
      "10: -1.8226e+02 -1.8226e+02  9e-05  2e-14  5e-15\n",
      "Optimal solution found.\n",
      "1\n",
      "     pcost       dcost       gap    pres   dres\n",
      " 0: -2.4204e+02 -2.0091e+03  9e+03  2e+00  5e-15\n",
      " 1: -1.7430e+02 -1.1634e+03  1e+03  2e-01  3e-15\n",
      " 2: -1.8267e+02 -3.7017e+02  2e+02  2e-02  2e-15\n",
      " 3: -2.0759e+02 -2.8238e+02  8e+01  7e-03  3e-15\n",
      " 4: -2.2023e+02 -2.4918e+02  3e+01  2e-03  3e-15\n",
      " 5: -2.2599e+02 -2.3687e+02  1e+01  5e-04  3e-15\n",
      " 6: -2.2900e+02 -2.3116e+02  2e+00  8e-06  4e-15\n",
      " 7: -2.2979e+02 -2.3006e+02  3e-01  3e-07  4e-15\n",
      " 8: -2.2991e+02 -2.2992e+02  8e-03  7e-09  4e-15\n",
      " 9: -2.2991e+02 -2.2991e+02  1e-04  9e-11  4e-15\n",
      "Optimal solution found.\n",
      "1\n",
      "     pcost       dcost       gap    pres   dres\n",
      " 0: -3.8414e+02 -2.5198e+03  1e+04  3e+00  8e-15\n",
      " 1: -2.7755e+02 -1.6247e+03  2e+03  1e-01  6e-15\n",
      " 2: -2.9348e+02 -5.5037e+02  3e+02  2e-02  5e-15\n",
      " 3: -3.3137e+02 -4.1468e+02  9e+01  5e-03  5e-15\n",
      " 4: -3.4285e+02 -3.8717e+02  5e+01  2e-03  5e-15\n",
      " 5: -3.5203e+02 -3.6508e+02  1e+01  5e-04  5e-15\n",
      " 6: -3.5545e+02 -3.5846e+02  3e+00  2e-16  6e-15\n",
      " 7: -3.5640e+02 -3.5706e+02  7e-01  2e-14  5e-15\n",
      " 8: -3.5665e+02 -3.5671e+02  6e-02  2e-14  6e-15\n",
      " 9: -3.5668e+02 -3.5668e+02  1e-03  5e-15  6e-15\n",
      "10: -3.5668e+02 -3.5668e+02  2e-05  5e-15  6e-15\n",
      "Optimal solution found.\n",
      "1\n",
      "     pcost       dcost       gap    pres   dres\n",
      " 0: -7.2644e+01 -1.9883e+03  1e+04  3e+00  3e-15\n",
      " 1: -4.0978e+01 -1.0684e+03  2e+03  2e-01  2e-15\n",
      " 2: -3.8072e+01 -1.8306e+02  2e+02  1e-02  2e-15\n",
      " 3: -5.1536e+01 -1.2358e+02  8e+01  6e-03  2e-15\n",
      " 4: -6.0785e+01 -9.2731e+01  3e+01  2e-03  2e-15\n",
      " 5: -6.3360e+01 -8.5414e+01  2e+01  5e-04  2e-15\n",
      " 6: -6.7470e+01 -7.5460e+01  8e+00  6e-05  3e-15\n",
      " 7: -6.9505e+01 -7.1642e+01  2e+00  3e-15  3e-15\n",
      " 8: -7.0262e+01 -7.0536e+01  3e-01  6e-15  3e-15\n",
      " 9: -7.0377e+01 -7.0386e+01  9e-03  3e-15  3e-15\n",
      "10: -7.0381e+01 -7.0381e+01  3e-04  4e-16  3e-15\n",
      "11: -7.0381e+01 -7.0381e+01  6e-06  7e-16  3e-15\n",
      "Optimal solution found.\n",
      "1\n",
      "10\n",
      "     pcost       dcost       gap    pres   dres\n",
      " 0:  2.9600e+01 -4.2260e+04  8e+04  4e-01  4e-14\n",
      " 1:  1.2992e+01 -7.4611e+03  8e+03  2e-02  3e-14\n",
      " 2: -6.2643e+02 -2.9089e+03  2e+03  4e-03  3e-14\n",
      " 3: -8.9105e+02 -1.7204e+03  8e+02  1e-03  3e-14\n",
      " 4: -1.0255e+03 -1.3482e+03  3e+02  2e-04  4e-14\n",
      " 5: -1.0893e+03 -1.1778e+03  9e+01  2e-05  4e-14\n",
      " 6: -1.1096e+03 -1.1353e+03  3e+01  3e-07  4e-14\n",
      " 7: -1.1169e+03 -1.1209e+03  4e+00  2e-14  4e-14\n",
      " 8: -1.1184e+03 -1.1185e+03  1e-01  3e-14  4e-14\n",
      " 9: -1.1185e+03 -1.1185e+03  4e-03  8e-14  4e-14\n",
      "10: -1.1185e+03 -1.1185e+03  7e-05  7e-14  4e-14\n",
      "Optimal solution found.\n",
      "10\n",
      "     pcost       dcost       gap    pres   dres\n",
      " 0:  1.9161e+02 -4.0951e+04  8e+04  4e-01  3e-14\n",
      " 1:  1.7375e+02 -7.6611e+03  9e+03  2e-02  2e-14\n",
      " 2: -4.0615e+02 -2.9616e+03  3e+03  6e-03  2e-14\n",
      " 3: -6.2557e+02 -1.7531e+03  1e+03  2e-03  2e-14\n",
      " 4: -7.5417e+02 -1.1618e+03  4e+02  4e-04  3e-14\n",
      " 5: -8.2696e+02 -9.7495e+02  1e+02  7e-14  3e-14\n",
      " 6: -8.5262e+02 -8.9665e+02  4e+01  3e-14  3e-14\n",
      " 7: -8.6181e+02 -8.7420e+02  1e+01  3e-14  3e-14\n",
      " 8: -8.6497e+02 -8.6821e+02  3e+00  1e-14  3e-14\n",
      " 9: -8.6600e+02 -8.6646e+02  5e-01  8e-15  3e-14\n",
      "10: -8.6615e+02 -8.6622e+02  7e-02  3e-14  3e-14\n",
      "11: -8.6618e+02 -8.6618e+02  9e-04  2e-15  3e-14\n",
      "12: -8.6618e+02 -8.6618e+02  1e-05  5e-14  3e-14\n",
      "Optimal solution found.\n",
      "10\n",
      "     pcost       dcost       gap    pres   dres\n",
      " 0:  1.1844e+02 -5.1297e+04  1e+05  5e-01  3e-14\n",
      " 1:  4.2823e+02 -1.0079e+04  1e+04  2e-02  2e-14\n",
      " 2: -4.3384e+02 -3.3474e+03  3e+03  3e-03  2e-14\n",
      " 3: -7.4758e+02 -1.9976e+03  1e+03  9e-04  2e-14\n",
      " 4: -8.9381e+02 -1.4365e+03  5e+02  3e-04  2e-14\n",
      " 5: -9.8213e+02 -1.1677e+03  2e+02  5e-05  2e-14\n",
      " 6: -1.0174e+03 -1.0749e+03  6e+01  1e-05  2e-14\n",
      " 7: -1.0296e+03 -1.0480e+03  2e+01  4e-14  3e-14\n",
      " 8: -1.0350e+03 -1.0380e+03  3e+00  4e-14  3e-14\n",
      " 9: -1.0360e+03 -1.0362e+03  2e-01  3e-14  3e-14\n",
      "10: -1.0361e+03 -1.0361e+03  4e-03  3e-14  3e-14\n",
      "11: -1.0361e+03 -1.0361e+03  7e-05  4e-14  3e-14\n",
      "Optimal solution found.\n",
      "10\n",
      "     pcost       dcost       gap    pres   dres\n",
      " 0: -5.0057e+02 -5.0242e+04  8e+04  3e-01  4e-14\n",
      " 1: -5.5603e+02 -8.9813e+03  9e+03  1e-02  4e-14\n",
      " 2: -1.3487e+03 -3.4368e+03  2e+03  2e-03  4e-14\n",
      " 3: -1.6731e+03 -2.5433e+03  9e+02  3e-04  4e-14\n",
      " 4: -1.8026e+03 -2.1922e+03  4e+02  6e-05  5e-14\n",
      " 5: -1.8680e+03 -1.9850e+03  1e+02  8e-06  5e-14\n",
      " 6: -1.8927e+03 -1.9224e+03  3e+01  7e-07  5e-14\n",
      " 7: -1.9008e+03 -1.9050e+03  4e+00  5e-14  6e-14\n",
      " 8: -1.9023e+03 -1.9024e+03  1e-01  6e-14  6e-14\n",
      " 9: -1.9023e+03 -1.9023e+03  2e-03  5e-14  5e-14\n",
      "10: -1.9023e+03 -1.9023e+03  5e-05  6e-14  5e-14\n",
      "Optimal solution found.\n",
      "10\n",
      "     pcost       dcost       gap    pres   dres\n",
      " 0:  7.0372e+02 -3.9006e+04  9e+04  4e-01  2e-14\n",
      " 1:  8.8098e+02 -6.5835e+03  1e+04  3e-02  1e-14\n",
      " 2:  1.8077e+02 -1.2718e+03  2e+03  3e-03  1e-14\n",
      " 3: -4.2561e+01 -4.8795e+02  5e+02  6e-04  8e-15\n",
      " 4: -1.0334e+02 -2.6112e+02  2e+02  1e-04  7e-15\n",
      " 5: -1.2629e+02 -1.9573e+02  7e+01  4e-05  7e-15\n",
      " 6: -1.3971e+02 -1.6794e+02  3e+01  6e-06  8e-15\n",
      " 7: -1.4558e+02 -1.5551e+02  1e+01  1e-14  9e-15\n",
      " 8: -1.4845e+02 -1.5012e+02  2e+00  9e-15  9e-15\n",
      " 9: -1.4906e+02 -1.4917e+02  1e-01  2e-15  9e-15\n",
      "10: -1.4910e+02 -1.4911e+02  1e-03  7e-15  9e-15\n",
      "11: -1.4911e+02 -1.4911e+02  1e-05  9e-15  9e-15\n",
      "Optimal solution found.\n",
      "10\n",
      "100\n",
      "     pcost       dcost       gap    pres   dres\n",
      " 0:  1.1906e+05 -3.0501e+06  5e+06  2e-01  3e-13\n",
      " 1:  8.6403e+04 -5.1284e+05  7e+05  2e-02  3e-13\n",
      " 2:  3.3222e+04 -1.5948e+05  2e+05  5e-03  2e-13\n",
      " 3:  1.0337e+04 -5.8758e+04  7e+04  7e-04  2e-13\n",
      " 4:  3.0672e+03 -2.7715e+04  3e+04  1e-04  1e-13\n",
      " 5:  2.8555e+02 -1.3316e+04  1e+04  2e-05  1e-13\n",
      " 6: -1.0694e+03 -5.2514e+03  4e+03  5e-07  1e-13\n",
      " 7: -1.5232e+03 -3.0392e+03  2e+03  1e-13  9e-14\n",
      " 8: -1.7170e+03 -2.1851e+03  5e+02  5e-14  8e-14\n",
      " 9: -1.7925e+03 -1.9430e+03  2e+02  6e-14  8e-14\n",
      "10: -1.8171e+03 -1.8747e+03  6e+01  4e-15  1e-13\n",
      "11: -1.8306e+03 -1.8431e+03  1e+01  5e-15  9e-14\n",
      "12: -1.8343e+03 -1.8351e+03  8e-01  4e-15  1e-13\n",
      "13: -1.8345e+03 -1.8346e+03  2e-02  1e-13  9e-14\n",
      "14: -1.8345e+03 -1.8345e+03  3e-04  8e-14  9e-14\n",
      "Optimal solution found.\n",
      "100\n",
      "     pcost       dcost       gap    pres   dres\n",
      " 0:  1.1635e+05 -2.9304e+06  5e+06  2e-01  3e-13\n",
      " 1:  8.5554e+04 -4.2015e+05  6e+05  2e-02  2e-13\n",
      " 2:  3.1250e+04 -1.3526e+05  2e+05  4e-03  2e-13\n",
      " 3:  1.0883e+04 -5.2052e+04  6e+04  9e-04  1e-13\n",
      " 4:  2.9429e+03 -2.5625e+04  3e+04  2e-05  1e-13\n",
      " 5:  6.5081e+02 -1.2671e+04  1e+04  4e-06  9e-14\n",
      " 6: -6.4223e+02 -5.3210e+03  5e+03  2e-13  9e-14\n",
      " 7: -1.1589e+03 -2.5858e+03  1e+03  8e-14  8e-14\n",
      " 8: -1.3446e+03 -1.8404e+03  5e+02  4e-15  8e-14\n",
      " 9: -1.4153e+03 -1.6080e+03  2e+02  2e-13  8e-14\n",
      "10: -1.4489e+03 -1.5078e+03  6e+01  1e-13  9e-14\n",
      "11: -1.4634e+03 -1.4736e+03  1e+01  8e-14  8e-14\n",
      "12: -1.4666e+03 -1.4677e+03  1e+00  1e-13  9e-14\n",
      "13: -1.4670e+03 -1.4670e+03  2e-02  5e-14  9e-14\n",
      "14: -1.4670e+03 -1.4670e+03  1e-03  2e-13  9e-14\n",
      "Optimal solution found.\n",
      "100\n",
      "     pcost       dcost       gap    pres   dres\n",
      " 0:  1.3419e+05 -3.8785e+06  7e+06  3e-01  3e-13\n",
      " 1:  1.2861e+05 -6.0777e+05  8e+05  2e-02  2e-13\n",
      " 2:  4.3601e+04 -1.6317e+05  2e+05  3e-03  1e-13\n",
      " 3:  1.2701e+04 -5.5686e+04  7e+04  6e-04  1e-13\n",
      " 4:  3.1163e+03 -2.1309e+04  2e+04  1e-04  1e-13\n",
      " 5: -8.6396e+01 -8.2594e+03  8e+03  2e-05  9e-14\n",
      " 6: -1.1139e+03 -3.5320e+03  2e+03  1e-13  9e-14\n",
      " 7: -1.4265e+03 -2.1920e+03  8e+02  8e-14  7e-14\n",
      " 8: -1.5583e+03 -1.7837e+03  2e+02  2e-13  8e-14\n",
      " 9: -1.6067e+03 -1.6486e+03  4e+01  2e-13  8e-14\n",
      "10: -1.6166e+03 -1.6279e+03  1e+01  1e-13  8e-14\n",
      "11: -1.6199e+03 -1.6213e+03  1e+00  3e-14  8e-14\n",
      "12: -1.6204e+03 -1.6204e+03  2e-02  4e-14  8e-14\n",
      "13: -1.6204e+03 -1.6204e+03  4e-04  8e-14  8e-14\n",
      "Optimal solution found.\n",
      "100\n",
      "     pcost       dcost       gap    pres   dres\n",
      " 0:  1.4343e+05 -3.7801e+06  6e+06  2e-01  4e-13\n",
      " 1:  1.0265e+05 -6.3769e+05  8e+05  2e-02  3e-13\n",
      " 2:  3.8229e+04 -1.9965e+05  2e+05  6e-03  3e-13\n",
      " 3:  9.5834e+03 -6.9891e+04  8e+04  7e-04  3e-13\n",
      " 4:  3.3169e+02 -2.6693e+04  3e+04  6e-06  2e-13\n",
      " 5: -2.1603e+03 -9.6002e+03  7e+03  4e-07  2e-13\n",
      " 6: -2.7554e+03 -6.9242e+03  4e+03  3e-13  1e-13\n",
      " 7: -3.1562e+03 -4.1890e+03  1e+03  2e-13  1e-13\n",
      " 8: -3.3152e+03 -3.5436e+03  2e+02  1e-13  2e-13\n",
      " 9: -3.3606e+03 -3.3928e+03  3e+01  6e-14  2e-13\n",
      "10: -3.3684e+03 -3.3718e+03  3e+00  3e-13  2e-13\n",
      "11: -3.3694e+03 -3.3695e+03  7e-02  3e-13  2e-13\n",
      "12: -3.3694e+03 -3.3694e+03  1e-03  3e-13  2e-13\n",
      "Optimal solution found.\n",
      "100\n",
      "     pcost       dcost       gap    pres   dres\n",
      " 0:  1.0776e+05 -2.7532e+06  6e+06  3e-01  1e-13\n",
      " 1:  9.5489e+04 -4.0322e+05  7e+05  2e-02  1e-13\n",
      " 2:  3.4862e+04 -1.0154e+05  2e+05  4e-03  8e-14\n",
      " 3:  1.2804e+04 -3.8617e+04  5e+04  1e-03  6e-14\n",
      " 4:  3.1090e+03 -1.0398e+04  1e+04  5e-05  5e-14\n",
      " 5:  2.3329e+03 -1.0502e+04  1e+04  3e-05  4e-14\n",
      " 6:  1.0249e+03 -5.5497e+03  7e+03  1e-05  3e-14\n",
      " 7:  6.7036e+02 -3.9820e+03  5e+03  4e-14  2e-14\n",
      " 8:  3.1457e+01 -8.1269e+02  8e+02  1e-14  2e-14\n",
      " 9: -8.2207e+01 -3.7245e+02  3e+02  4e-14  1e-14\n",
      "10: -1.1744e+02 -2.5196e+02  1e+02  5e-15  1e-14\n",
      "11: -1.3733e+02 -1.9836e+02  6e+01  1e-14  1e-14\n",
      "12: -1.4827e+02 -1.6944e+02  2e+01  7e-15  1e-14\n",
      "13: -1.5290e+02 -1.5955e+02  7e+00  2e-15  1e-14\n",
      "14: -1.5486e+02 -1.5573e+02  9e-01  6e-15  1e-14\n",
      "15: -1.5520e+02 -1.5522e+02  2e-02  1e-14  1e-14\n",
      "16: -1.5521e+02 -1.5521e+02  3e-04  2e-14  1e-14\n",
      "17: -1.5521e+02 -1.5521e+02  5e-06  9e-15  1e-14\n",
      "Optimal solution found.\n",
      "100\n",
      "1000\n",
      "     pcost       dcost       gap    pres   dres\n",
      " 0:  1.2953e+07 -2.9327e+08  5e+08  2e-01  3e-12\n",
      " 1:  9.3090e+06 -4.8921e+07  7e+07  2e-02  8e-12\n",
      " 2:  3.9209e+06 -1.4800e+07  2e+07  5e-03  3e-12\n",
      " 3:  1.4330e+06 -5.4040e+06  7e+06  6e-04  2e-12\n",
      " 4:  5.1277e+05 -2.3304e+06  3e+06  1e-06  1e-12\n",
      " 5:  2.2235e+05 -1.0362e+06  1e+06  5e-08  8e-13\n",
      " 6:  7.9469e+04 -3.4396e+05  4e+05  1e-14  6e-13\n",
      " 7:  1.0769e+04 -2.9495e+04  4e+04  3e-13  4e-13\n",
      " 8:  1.6553e+02 -5.5448e+03  6e+03  1e-13  2e-13\n",
      " 9: -1.2051e+03 -2.9447e+03  2e+03  8e-14  1e-13\n",
      "10: -1.6027e+03 -2.3692e+03  8e+02  5e-14  9e-14\n",
      "11: -1.7574e+03 -2.0559e+03  3e+02  7e-14  9e-14\n",
      "12: -1.8035e+03 -1.9145e+03  1e+02  2e-14  9e-14\n",
      "13: -1.8268e+03 -1.8505e+03  2e+01  1e-13  1e-13\n",
      "14: -1.8336e+03 -1.8362e+03  3e+00  8e-14  1e-13\n",
      "15: -1.8345e+03 -1.8346e+03  8e-02  3e-13  9e-14\n",
      "16: -1.8345e+03 -1.8345e+03  1e-03  9e-15  1e-13\n",
      "Optimal solution found.\n",
      "1000\n",
      "     pcost       dcost       gap    pres   dres\n",
      " 0:  1.2510e+07 -2.8140e+08  5e+08  2e-01  2e-12\n",
      " 1:  9.0841e+06 -4.0319e+07  6e+07  2e-02  5e-12\n",
      " 2:  3.5910e+06 -1.2531e+07  2e+07  4e-03  2e-12\n",
      " 3:  1.4088e+06 -4.6191e+06  6e+06  8e-04  1e-12\n",
      " 4:  5.8080e+05 -2.8798e+06  3e+06  3e-12  1e-12\n",
      " 5:  2.9732e+05 -1.4536e+06  2e+06  5e-13  7e-13\n",
      " 6:  1.2876e+05 -5.6724e+05  7e+05  3e-13  6e-13\n",
      " 7:  2.0227e+04 -5.0019e+04  7e+04  7e-14  4e-13\n",
      " 8:  1.6395e+03 -6.8793e+03  9e+03  2e-13  2e-13\n",
      " 9: -5.1213e+02 -3.1334e+03  3e+03  2e-13  1e-13\n",
      "10: -1.1130e+03 -2.1183e+03  1e+03  2e-13  7e-14\n",
      "11: -1.3309e+03 -1.7368e+03  4e+02  9e-15  7e-14\n",
      "12: -1.4110e+03 -1.5892e+03  2e+02  8e-14  8e-14\n",
      "13: -1.4469e+03 -1.5131e+03  7e+01  2e-13  9e-14\n",
      "14: -1.4625e+03 -1.4758e+03  1e+01  3e-13  9e-14\n",
      "15: -1.4665e+03 -1.4678e+03  1e+00  1e-13  9e-14\n",
      "16: -1.4670e+03 -1.4670e+03  3e-02  3e-14  9e-14\n",
      "17: -1.4670e+03 -1.4670e+03  2e-03  8e-14  9e-14\n",
      "18: -1.4670e+03 -1.4670e+03  2e-05  1e-13  9e-14\n",
      "Optimal solution found.\n",
      "1000\n",
      "     pcost       dcost       gap    pres   dres\n",
      " 0:  1.4522e+07 -3.7535e+08  7e+08  3e-01  3e-12\n",
      " 1:  1.3516e+07 -5.8347e+07  8e+07  2e-02  1e-11\n",
      " 2:  5.0078e+06 -1.5793e+07  2e+07  4e-03  3e-12\n",
      " 3:  1.6526e+06 -4.9021e+06  7e+06  6e-04  1e-12\n",
      " 4:  5.6267e+05 -2.0599e+06  3e+06  7e-05  1e-12\n",
      " 5:  1.5709e+05 -5.9472e+05  8e+05  6e-13  7e-13\n",
      " 6:  2.8107e+04 -7.8997e+04  1e+05  2e-12  4e-13\n",
      " 7:  2.5221e+03 -9.0322e+03  1e+04  5e-13  2e-13\n",
      " 8: -6.2603e+02 -3.2740e+03  3e+03  4e-13  1e-13\n",
      " 9: -1.2572e+03 -2.2316e+03  1e+03  7e-14  8e-14\n",
      "10: -1.4851e+03 -1.8322e+03  3e+02  8e-14  8e-14\n",
      "11: -1.5793e+03 -1.6883e+03  1e+02  3e-13  8e-14\n",
      "12: -1.6114e+03 -1.6383e+03  3e+01  2e-13  9e-14\n",
      "13: -1.6180e+03 -1.6250e+03  7e+00  4e-14  8e-14\n",
      "14: -1.6203e+03 -1.6207e+03  4e-01  6e-14  9e-14\n",
      "15: -1.6204e+03 -1.6204e+03  5e-03  2e-13  8e-14\n",
      "16: -1.6204e+03 -1.6204e+03  9e-05  7e-14  8e-14\n",
      "Optimal solution found.\n",
      "1000\n",
      "     pcost       dcost       gap    pres   dres\n",
      " 0:  1.6092e+07 -3.6559e+08  5e+08  2e-01  4e-12\n",
      " 1:  1.1537e+07 -6.1870e+07  8e+07  2e-02  4e-12\n",
      " 2:  4.8978e+06 -1.8971e+07  2e+07  6e-03  3e-12\n",
      " 3:  1.7138e+06 -6.8321e+06  9e+06  7e-04  2e-12\n",
      " 4:  5.3680e+05 -2.3698e+06  3e+06  3e-14  2e-12\n",
      " 5:  2.3023e+05 -1.0554e+06  1e+06  2e-12  1e-12\n",
      " 6:  9.0450e+04 -4.3818e+05  5e+05  1e-12  8e-13\n",
      " 7:  1.1082e+04 -3.9758e+04  5e+04  2e-12  5e-13\n",
      " 8: -9.7930e+02 -8.9481e+03  8e+03  3e-13  3e-13\n",
      " 9: -2.5200e+03 -5.3745e+03  3e+03  1e-13  2e-13\n",
      "10: -3.1184e+03 -4.0057e+03  9e+02  2e-13  1e-13\n",
      "11: -3.3092e+03 -3.5607e+03  3e+02  3e-13  2e-13\n",
      "12: -3.3664e+03 -3.4192e+03  5e+01  3e-13  2e-13\n",
      "13: -3.3810e+03 -3.3857e+03  5e+00  3e-13  2e-13\n",
      "14: -3.3824e+03 -3.3826e+03  1e-01  3e-13  2e-13\n",
      "15: -3.3825e+03 -3.3825e+03  3e-03  4e-13  2e-13\n",
      "Optimal solution found.\n",
      "1000\n",
      "     pcost       dcost       gap    pres   dres\n",
      " 0:  1.1108e+07 -2.6385e+08  5e+08  3e-01  1e-12\n",
      " 1:  9.5530e+06 -3.9025e+07  6e+07  2e-02  4e-12\n",
      " 2:  3.6414e+06 -1.0199e+07  2e+07  4e-03  1e-12\n",
      " 3:  1.3906e+06 -3.8654e+06  6e+06  1e-03  6e-13\n",
      " 4:  4.2257e+05 -1.1774e+06  2e+06  1e-04  5e-13\n",
      " 5:  3.2238e+05 -1.1763e+06  2e+06  8e-05  4e-13\n",
      " 6:  7.4932e+04 -2.1166e+05  3e+05  1e-05  2e-13\n",
      " 7:  3.2478e+04 -1.2055e+05  2e+05  2e-13  2e-13\n",
      " 8:  4.7949e+03 -9.0331e+03  1e+04  4e-14  1e-13\n",
      " 9:  5.3304e+02 -1.2423e+03  2e+03  2e-14  5e-14\n",
      "10:  2.0627e+01 -4.7121e+02  5e+02  1e-14  2e-14\n",
      "11: -8.5569e+01 -2.6940e+02  2e+02  4e-15  1e-14\n",
      "12: -1.1900e+02 -2.1399e+02  9e+01  2e-14  1e-14\n",
      "13: -1.3703e+02 -1.8765e+02  5e+01  1e-14  1e-14\n",
      "14: -1.4925e+02 -1.6696e+02  2e+01  1e-14  1e-14\n",
      "15: -1.5367e+02 -1.5788e+02  4e+00  1e-14  1e-14\n",
      "16: -1.5502e+02 -1.5551e+02  5e-01  2e-15  1e-14\n",
      "17: -1.5520e+02 -1.5521e+02  8e-03  9e-15  1e-14\n",
      "18: -1.5521e+02 -1.5521e+02  1e-04  1e-14  1e-14\n",
      "Optimal solution found.\n",
      "1000\n"
     ]
    }
   ],
   "source": [
    "trainAcc = list()\n",
    "testAcc = list()\n",
    "acc = 0\n",
    "cList = [0.1, 1, 10, 100, 1000]\n",
    "for c in cList:\n",
    "    print(c)\n",
    "    a1, w01, ktrain1 = getSVM(y1, C = c)\n",
    "    a2, w02, ktrain2 = getSVM(y2, C = c)\n",
    "    a3, w03, ktrain3 = getSVM(y3, C = c)\n",
    "    a4, w04, ktrain4 = getSVM(y4, C = c)\n",
    "    a5, w05, ktrain5 = getSVM(y5, C = c)\n",
    "    \n",
    "    f_predicted1 = np.matmul(ktrain1, y1[:,None] * a1[:,None]) + w01\n",
    "    f_predicted2 = np.matmul(ktrain2, y2[:,None] * a2[:,None]) + w02\n",
    "    f_predicted3 = np.matmul(ktrain3, y3[:,None] * a3[:,None]) + w03\n",
    "    f_predicted4 = np.matmul(ktrain4, y4[:,None] * a4[:,None]) + w04\n",
    "    f_predicted5 = np.matmul(ktrain5, y5[:,None] * a5[:,None]) + w05\n",
    "    preds = np.argmax([f_predicted1,f_predicted2,f_predicted3,f_predicted4,f_predicted5], axis=0)\n",
    "    preds = preds + 1\n",
    "    \n",
    "    confusion_matrix = pd.crosstab(np.reshape(preds, N_train), y_train, rownames = ['y_predicted'], colnames = ['y_train'])\n",
    "    \n",
    "    acc = np.sum(np.diag(np.array(confusion_matrix))) / np.sum(np.array(confusion_matrix))\n",
    "    trainAcc.append(acc)\n",
    "    \n",
    "    s = 10\n",
    "    K_test = gaussian_kernel(X_test, X_train, s)\n",
    "    #np.matmul(ktrain4, y4[:,None] * a4[:,None])\n",
    "    f_predicted1 = np.matmul(K_test, y1[:,None] * a1[:,None]) + w01\n",
    "    f_predicted2 = np.matmul(K_test, y2[:,None] * a2[:,None]) + w02\n",
    "    f_predicted3 = np.matmul(K_test, y3[:,None] * a3[:,None]) + w03\n",
    "    f_predicted4 = np.matmul(K_test, y4[:,None] * a4[:,None]) + w04\n",
    "    f_predicted5 = np.matmul(K_test, y5[:,None] * a5[:,None]) + w05\n",
    "    \n",
    "    preds = np.argmax([f_predicted1,f_predicted2,f_predicted3,f_predicted4,f_predicted5], axis=0)\n",
    "    preds = preds + 1\n",
    "    \n",
    "    confusion_matrix = pd.crosstab(np.reshape(preds, 4000), y_test, rownames = ['y_predicted'], colnames = ['y_train'])\n",
    "    acc = np.sum(np.diag(np.array(confusion_matrix))) / np.sum(np.array(confusion_matrix))\n",
    "    \n",
    "    testAcc.append(acc)"
   ]
  },
  {
   "cell_type": "code",
   "execution_count": 29,
   "metadata": {},
   "outputs": [
    {
     "data": {
      "text/plain": [
       "[0.729, 0.85, 0.973, 1.0, 0.994]"
      ]
     },
     "execution_count": 29,
     "metadata": {},
     "output_type": "execute_result"
    }
   ],
   "source": [
    "trainAcc"
   ]
  },
  {
   "cell_type": "code",
   "execution_count": 30,
   "metadata": {},
   "outputs": [
    {
     "data": {
      "text/plain": [
       "[0.7265, 0.81075, 0.82975, 0.8075, 0.7765]"
      ]
     },
     "execution_count": 30,
     "metadata": {},
     "output_type": "execute_result"
    }
   ],
   "source": [
    "testAcc"
   ]
  },
  {
   "cell_type": "code",
   "execution_count": null,
   "metadata": {},
   "outputs": [],
   "source": []
  },
  {
   "cell_type": "code",
   "execution_count": 31,
   "metadata": {},
   "outputs": [
    {
     "data": {
      "text/plain": [
       "array([1.e-01, 1.e+00, 1.e+01, 1.e+02, 1.e+03])"
      ]
     },
     "execution_count": 31,
     "metadata": {},
     "output_type": "execute_result"
    }
   ],
   "source": [
    "(10**np.log10(cList))"
   ]
  },
  {
   "cell_type": "code",
   "execution_count": 32,
   "metadata": {},
   "outputs": [
    {
     "data": {
      "text/plain": [
       "[<matplotlib.axis.XTick at 0x2a61540cf70>,\n",
       " <matplotlib.axis.XTick at 0x2a61540cee0>,\n",
       " <matplotlib.axis.XTick at 0x2a61540c7c0>,\n",
       " <matplotlib.axis.XTick at 0x2a60413b0a0>,\n",
       " <matplotlib.axis.XTick at 0x2a60413b7f0>]"
      ]
     },
     "execution_count": 32,
     "metadata": {},
     "output_type": "execute_result"
    },
    {
     "data": {
      "image/png": "[encoded data removed]",
      "text/plain": [
       "<Figure size 720x432 with 1 Axes>"
      ]
     },
     "metadata": {
      "needs_background": "light"
     },
     "output_type": "display_data"
    },
    {
     "data": {
      "text/plain": [
       "<Figure size 720x432 with 0 Axes>"
      ]
     },
     "metadata": {},
     "output_type": "display_data"
    }
   ],
   "source": [
    "import matplotlib\n",
    "fig1, ax1 = plt.subplots(figsize=(10, 6))\n",
    "plt.figure(figsize = (10, 6))\n",
    "ax1.plot(cList, trainAcc,\"bo-\", label = 'Training')\n",
    "ax1.plot(cList, testAcc,\"ro-\", label = 'Test')\n",
    "ax1.legend(loc='upper left')\n",
    "ax1.set_xscale('log')\n",
    "#ax1.set_xticks(cList)\n",
    "ax1.set_xticks(ticks = cList)\n",
    "#ax1.get_xaxis().set_major_formatter(matplotlib.ticker.ScalarFormatter())"
   ]
  },
  {
   "cell_type": "code",
   "execution_count": null,
   "metadata": {},
   "outputs": [],
   "source": []
  },
  {
   "cell_type": "code",
   "execution_count": null,
   "metadata": {},
   "outputs": [],
   "source": []
  }
 ],
 "metadata": {
  "kernelspec": {
   "display_name": "Python 3 (ipykernel)",
   "language": "python",
   "name": "python3"
  },
  "language_info": {
   "codemirror_mode": {
    "name": "ipython",
    "version": 3
   },
   "file_extension": ".py",
   "mimetype": "text/x-python",
   "name": "python",
   "nbconvert_exporter": "python",
   "pygments_lexer": "ipython3",
   "version": "3.9.8"
  }
 },
 "nbformat": 4,
 "nbformat_minor": 4
}
